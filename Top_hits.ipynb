{
 "cells": [
  {
   "cell_type": "markdown",
   "metadata": {},
   "source": [
    "# Title: Classifying Explicit Songs on Spotify From 2010-2019 via K-Nearest Neighbors"
   ]
  },
  {
   "cell_type": "code",
   "execution_count": 7,
   "metadata": {},
   "outputs": [
    {
     "name": "stderr",
     "output_type": "stream",
     "text": [
      "Updating HTML index of packages in '.Library'\n",
      "\n",
      "Making 'packages.html' ...\n",
      " done\n",
      "\n"
     ]
    },
    {
     "ename": "ERROR",
     "evalue": "Error: package or namespace load failed for ‘tidyverse’ in loadNamespace(i, c(lib.loc, .libPaths()), versionCheck = vI[[i]]):\n namespace ‘rlang’ 0.4.7 is already loaded, but >= 1.0.2 is required\n",
     "output_type": "error",
     "traceback": [
      "Error: package or namespace load failed for ‘tidyverse’ in loadNamespace(i, c(lib.loc, .libPaths()), versionCheck = vI[[i]]):\n namespace ‘rlang’ 0.4.7 is already loaded, but >= 1.0.2 is required\nTraceback:\n",
      "1. library(tidyverse)",
      "2. tryCatch({\n .     attr(package, \"LibPath\") <- which.lib.loc\n .     ns <- loadNamespace(package, lib.loc)\n .     env <- attachNamespace(ns, pos = pos, deps, exclude, include.only)\n . }, error = function(e) {\n .     P <- if (!is.null(cc <- conditionCall(e))) \n .         paste(\" in\", deparse(cc)[1L])\n .     else \"\"\n .     msg <- gettextf(\"package or namespace load failed for %s%s:\\n %s\", \n .         sQuote(package), P, conditionMessage(e))\n .     if (logical.return) \n .         message(paste(\"Error:\", msg), domain = NA)\n .     else stop(msg, call. = FALSE, domain = NA)\n . })",
      "3. tryCatchList(expr, classes, parentenv, handlers)",
      "4. tryCatchOne(expr, names, parentenv, handlers[[1L]])",
      "5. value[[3L]](cond)",
      "6. stop(msg, call. = FALSE, domain = NA)"
     ]
    }
   ],
   "source": [
    "install.packages(\"themis\")\n",
    "library(tidyverse)\n",
    "library(repr)\n",
    "library(tidymodels)\n",
    "library(dplyr)\n",
    "library(themis)\n",
    "library(RColorBrewer)"
   ]
  },
  {
   "cell_type": "markdown",
   "metadata": {},
   "source": [
    "# 1. Introduction\n",
    "\n",
    "### In this study, we will study a data set of Top Hit Spotify Songs from 2000-to 2019, originating from Kaggle. \n",
    "The data is organized into 18 columns, each of which describes the track and its quality. A detailed description of all the columns content can be found here: https://www.kaggle.com/datasets/paradisejoy/top-hits-spotify-from-20002019\".\n",
    "\n",
    "We want to answer a predictive question: Can we use a song's traits to predict whether a song in 2010-2019 on Spotify is explicit or not? Answering this question is noteworthy because Spotify has an explicit content filter that allows users to filter out songs containing language that may be considered offensive to children. However, Spotify's explicit content tag is based on information provided by the rights holder; thus, not all tracks with explicit content are properly labelled, and users must manually report those they missed. Hence, this study set out to investigate an alternative solution to predict and thus label whether a song may be explicit or not. A rigorous answer to this question could help Spotify enhance its explicit content filter and improve user experience.\n"
   ]
  },
  {
   "cell_type": "code",
   "execution_count": null,
   "metadata": {},
   "outputs": [],
   "source": [
    "# read + clean + wrangle data ----------------------------------------------------\n",
    "single_genre <- c('country', 'latin', 'Dance/Electronic', 'Folk/Acoustic',\n",
    "'pop', 'rock','hip hop','R&B','metal','jazz','blues','classical','World/Traditional')"
   ]
  },
  {
   "cell_type": "code",
   "execution_count": null,
   "metadata": {},
   "outputs": [],
   "source": [
    "set.seed(999)\n",
    "options(repr.plot.width = 8, repr.plot.height = 8)\n",
    "song <- read_csv('https://raw.githubusercontent.com/nicolelassetter/DSCI100-project-g28/main/songs_normalize.csv') %>%\n",
    "    mutate(genre <- as_factor(genre))%>%\n",
    "    filter(genre %in% single_genre)\n",
    "head(song) # small preview of data set"
   ]
  },
  {
   "cell_type": "code",
   "execution_count": null,
   "metadata": {},
   "outputs": [],
   "source": [
    "# count the row of missing data to see if we need to tidy our data, and the result is zero.\n",
    "sum(anyNA(song))\n",
    "\n",
    "# count how many explicit vs non-explict are present to see if we need to balance the data prior training to avoid bias,\n",
    "# and the result is that this data is imbalance, and will need to be balanced prior training.\n",
    "n_explicit <- song %>%\n",
    "    group_by(explicit) %>%\n",
    "    summarize(n = n())\n",
    "n_explicit"
   ]
  },
  {
   "cell_type": "code",
   "execution_count": null,
   "metadata": {},
   "outputs": [],
   "source": [
    "# split data to Training + Testing Data ---------------------------------------------\n",
    "song_split <- initial_split(song, prop = 0.75, strata = explicit)\n",
    "song_train <- training(song_split)\n",
    "track_test <- testing(song_split)"
   ]
  },
  {
   "cell_type": "code",
   "execution_count": null,
   "metadata": {},
   "outputs": [],
   "source": [
    "#summarize the whole training data\n",
    "summary(song_train)"
   ]
  },
  {
   "cell_type": "code",
   "execution_count": null,
   "metadata": {},
   "outputs": [],
   "source": [
    "## Plots that shows little to no relationship to explicitness, put here to show that we did all the exploration, but since there are \n",
    "## too many graphs, we did not show all of them.\n",
    "p00 <- ggplot(song_train,aes(x = popularity,color = explicit))+geom_bar()+scale_fill_brewer(palette = \"Set1\")\n",
    "p01 <- ggplot(song_train,aes(x = year,color = explicit))+geom_bar()+scale_fill_brewer(palette = \"Set1\")\n",
    "p02 <- ggplot(song_train,aes(x = energy ,color = explicit))+geom_bar()+scale_fill_brewer(palette = \"Set1\")\n",
    "p03 <- ggplot(song_train,aes(x = loudness,color = explicit))+geom_bar()+scale_fill_brewer(palette = \"Set1\")\n",
    "p04 <- ggplot(song_train,aes(x = mode ,color = explicit))+geom_bar()+scale_fill_brewer(palette = \"Set1\")\n",
    "p05 <- ggplot(song_train,aes(x = valence ,color = explicit))+geom_histogram()\n",
    "p06 <- ggplot(song_train,aes(x = danceability ,color = explicit))+geom_histogram()\n",
    "p07 <- ggplot(song_train,aes(x = popularity ,color = explicit))+geom_histogram()\n",
    "p08 <- ggplot(song_train,aes(x = key ,color = explicit))+geom_histogram()\n",
    "p09 <- ggplot(song_train,aes(x = loudness ,color = explicit))+geom_histogram()\n",
    "p10 <- ggplot(song_train,aes(x = acousticness ,color = explicit))+geom_histogram()\n",
    "p11 <- ggplot(song_train,aes(x = instrumentalness ,color = explicit))+geom_histogram()\n",
    "p12 <- ggplot(song_train,aes(x = liveness ,color = explicit))+geom_histogram()\n",
    "p13 <- ggplot(song_train,aes(x = valence ,color = explicit))+geom_histogram()\n",
    "p14 <- ggplot(song_train,aes(x = tempo ,color = explicit))+geom_histogram()\n",
    "p15 <- ggplot(song_train,aes(x = genre ,color = explicit))+geom_bar()"
   ]
  },
  {
   "cell_type": "code",
   "execution_count": null,
   "metadata": {},
   "outputs": [],
   "source": [
    "# summarise only training data info into tables ----------------------------------------\n",
    "n_genre_table_training <- song_train %>%\n",
    "    group_by(genre, explicit) %>%\n",
    "    summarize(n = n()) \n",
    "n_genre_table_training"
   ]
  },
  {
   "cell_type": "code",
   "execution_count": null,
   "metadata": {},
   "outputs": [],
   "source": [
    "mean_table_training <- song_train %>%\n",
    "    select(speechiness, acousticness, energy, danceability) %>%\n",
    "    map_df(mean)\n",
    "mean_table_training"
   ]
  },
  {
   "cell_type": "markdown",
   "metadata": {},
   "source": [
    "# 2. Methods\n",
    "\n",
    "For the sake of the project, we will only use songs with a single genre. \n",
    "\n",
    "Data analysis will be conducted on Jupyter notebook using R. We will use the tidyverse, repr, dplyr, RColorBrewer and themis libraries as they contain the functions required for our calculations and visualizations. Our primary method is classification using K-nearest neighbours (KNN). We mostly based our model from Data Science: A First Introduction (Timbers et al., 2022) and accessed our data from Kaggle (Koverha, 2022). To begin, we will create a training and test data set and use only the training data for the preprocessing/preliminary steps.\n",
    "\n",
    "\n",
    "We split our data set so that 75% of the original data set ends up in the training set, and 25% would be in the test set(using the function initial_split). This includes scaling all predictors (step_scale and step_center) to ensure they have a mean of 0 and a standard deviation of 1. To increase the readability of the 18 columns, we wil only keep the classifier and the predictors.\n",
    "\n",
    "Hence, the remaining columns from the data set are as follows:\n",
    "\n",
    "1. explicit: The song or music video contains content that is considered offensive or inappropriate for children.\n",
    "2. speechiness: Measure from 0.0 to 1.0 of the presence of spoken words. The closer the song is near 1.0, the more words has.\n",
    "3. energy: Measure from 0.0 to 1.0, a perceptual measure of intensity and activity.\n",
    "4. danceability: How suitable the track is for dancing based on tempo, rhythm stability, beat strength, and overall regularity. 0 = least danceable, 1.0 = most danceable.\n",
    "5. genre : Track’s genre.\n",
    "\n"
   ]
  },
  {
   "cell_type": "markdown",
   "metadata": {},
   "source": [
    "# To Begin:\n",
    "\n",
    "We plotted the genre into bar graphs to visualize the genre distribution of our training data. We then used scatter plots to determine the predictors by looking for relationships. Next, we plotted numerous graphs using our training data with explicit as our classifier to discover relationships. We found that speechiness, energy, danceability and genre had a sort of linear or grouped relationship to explicitness through plotting, and the others did not have a relation."
   ]
  },
  {
   "cell_type": "code",
   "execution_count": null,
   "metadata": {},
   "outputs": [],
   "source": [
    "# Using training data: visualise data to find possible predictors relevant for analysis ----\n",
    "\n",
    "# Bar: genre vs count (Number of Songs Total)\n",
    "plot1 <- n_genre_table_training %>%\n",
    "    ggplot(aes(x = genre, fill = explicit, y = n)) +\n",
    "    geom_bar(stat = 'identity') +\n",
    "    labs(x = \"Single Song Genres\", y = 'Number of Songs Total') +\n",
    "    ggtitle('Single Song Genres vs Number of Songs Total Colored by Explicit')\n",
    "plot1"
   ]
  },
  {
   "cell_type": "code",
   "execution_count": null,
   "metadata": {},
   "outputs": [],
   "source": [
    "# Scatter: Speechiness vs Energy Colored and Shaped by Explicit\n",
    "plot2 <- song_train %>%\n",
    "    ggplot(aes(x = energy, y = speechiness, colour = explicit, shape = explicit)) +\n",
    "    geom_point() +\n",
    "    labs(x = \"Energy (Scale from 0-1)\", y = 'Speechiness (Scale from 0-1)') +\n",
    "    ggtitle('Speechiness vs Energy Colored and Shaped by Explicit')\n",
    "plot2"
   ]
  },
  {
   "cell_type": "code",
   "execution_count": null,
   "metadata": {},
   "outputs": [],
   "source": [
    "# Scatter: Speechiness vs Danceability Colored and Shaped by Explicit\n",
    "plot3 <- song_train %>%\n",
    "    ggplot(aes(x = danceability, y = speechiness, colour = explicit, shape = explicit)) +\n",
    "    geom_point() +\n",
    "    labs(x = \"Danceability (Scale from 0-1)\", y = 'Speechiness (Scale from 0-1)') +\n",
    "    ggtitle('Speechiness vs Danceability Colored and Shaped by Explicit')\n",
    "plot3"
   ]
  },
  {
   "cell_type": "code",
   "execution_count": null,
   "metadata": {},
   "outputs": [],
   "source": [
    "# Scatter : Speechiness vs Acousticness Colored and Shaped by Explicit\n",
    "plot4 <- song_train %>%\n",
    "    ggplot(aes(x = acousticness, y = speechiness, colour = explicit, shape = explicit)) +\n",
    "    geom_point() +\n",
    "    labs(x = \"Danceability (Scale from 0-1)\", y = 'Speechiness (Scale from 0-1)') +\n",
    "    ggtitle('Speechiness vs Acousticness Colored and Shaped by Explicit')\n",
    "plot4"
   ]
  },
  {
   "cell_type": "markdown",
   "metadata": {},
   "source": [
    "### Modeling\n",
    "\n",
    "The first step of our analysis is selecting the optimal K value for our K-nearest-neighbours (KNN) calculations. The begins with performing a cross-validation calculation using vfold, where we split our overall training data into C evenly sized chunks and perform a 5-fold cross-validation. We then run cross-validation on each train/validation split. This reduces the influence of any one (un)lucky validation set on the estimate. \n"
   ]
  },
  {
   "cell_type": "code",
   "execution_count": null,
   "metadata": {},
   "outputs": [],
   "source": [
    "# Perform the data analysis -----------------------------------------------------------------------------------\n",
    "\n",
    "# select only the columns that contains the response variable + predictors we will use\n",
    "songs <- song %>%\n",
    "    select(explicit, speechiness, danceability, energy) %>%\n",
    "    mutate(explicit = as_factor(explicit))\n",
    "\n",
    "# split data to Training + Testing data \n",
    "songs_split <- initial_split(songs, prop = 0.75, strata = explicit)\n",
    "songs_train <- training(songs_split)\n",
    "tracks_test <- testing(songs_split)"
   ]
  },
  {
   "cell_type": "markdown",
   "metadata": {},
   "source": [
    "Here, we create a recipe that specifies our class label (explicit) and our predictors (the rest of our predictors). We use our training data, as we don't want our testing data to \"see light\" yet."
   ]
  },
  {
   "cell_type": "code",
   "execution_count": null,
   "metadata": {},
   "outputs": [],
   "source": [
    "# balancing the data(since there are way too many unexplicit songs)\n",
    "\n",
    "s_recipe <- recipe(explicit ~ speechiness + danceability + energy, data = songs_train) %>%\n",
    "    step_upsample(explicit, over_ratio = 1, skip = FALSE) %>%\n",
    "    prep()\n",
    "upsampled_songs <- bake(s_recipe, songs_train)\n",
    "songs_train <- upsampled_songs \n",
    "songs_train\n",
    "upsampled_songs %>%\n",
    "  group_by(explicit) %>%\n",
    "  summarize(n = n())\n"
   ]
  },
  {
   "cell_type": "markdown",
   "metadata": {},
   "source": [
    "Here, we also perform the preprocessing steps, passing the training data as the data argument in the recipe. Because we are looking for K, we say neighbors = tune() instead of a number value. "
   ]
  },
  {
   "cell_type": "code",
   "execution_count": null,
   "metadata": {},
   "outputs": [],
   "source": [
    "# finding optimal K with balanced training data\n",
    "songs_recipe <- recipe(explicit ~ ., data = songs_train ) %>%\n",
    "    step_upsample(over_ratio = 1, skip = FALSE) %>%\n",
    "    step_scale(all_predictors()) %>%\n",
    "    step_center(all_predictors()) \n"
   ]
  },
  {
   "cell_type": "code",
   "execution_count": null,
   "metadata": {},
   "outputs": [],
   "source": [
    "songs_vfold <- vfold_cv(songs_train, v = 5, strata = explicit)\n",
    "\n",
    "knn_spec <- nearest_neighbor(weight_func = \"rectangular\", neighbors = tune()) %>%\n",
    "    set_engine(\"kknn\") %>%\n",
    "    set_mode(\"classification\")\n",
    "\n",
    "k_vals <- tibble(neighbors = seq(from = 1, to = 15, by = 1))\n",
    "\n",
    "knn_results <- workflow() %>%\n",
    "    add_recipe(songs_recipe) %>%\n",
    "    add_model(knn_spec) %>%\n",
    "    tune_grid(resamples = songs_vfold, grid = k_vals) %>%\n",
    "    collect_metrics()\n"
   ]
  },
  {
   "cell_type": "markdown",
   "metadata": {},
   "source": [
    "Here, we plot our filtered knn_results to visualize the accuracy across different values of K. The K value we chose is K=9 because from the plot, we can see this has the highest accuracy and does not change much when we change K to a nearby value."
   ]
  },
  {
   "cell_type": "code",
   "execution_count": null,
   "metadata": {},
   "outputs": [],
   "source": [
    "accuracies <- knn_results %>%\n",
    "     filter(.metric == 'accuracy')\n",
    "\n",
    "cross_val_plot <- ggplot(accuracies, aes(x = neighbors, y = mean)) +\n",
    "    geom_point() +\n",
    "    geom_line() +\n",
    "    labs(x = 'Neighbors', y = 'Accuracy Estimate') +\n",
    "    theme(text = element_text(size = 20)) +\n",
    "    scale_x_continuous(breaks = seq(0, 30)) +\n",
    "    ggtitle( \"Figure 5. Estimated Accuracy vs Neighbors\") +\n",
    "    theme(plot.title = element_text(hjust = 0.5))\n",
    "\n",
    "cross_val_plot"
   ]
  },
  {
   "cell_type": "markdown",
   "metadata": {},
   "source": [
    "Here, we made a new model specification for our chosen K = 9 and retrained the classifier using the fit function. Finally, we evaluate the estimated accuracy and predict with our test data."
   ]
  },
  {
   "cell_type": "code",
   "execution_count": null,
   "metadata": {},
   "outputs": [],
   "source": [
    "# build/train the model \n",
    "knn_spec_2 <- nearest_neighbor(weight_func = \"rectangular\", neighbors = 13) %>%\n",
    "    set_engine(\"kknn\") %>%\n",
    "    set_mode(\"classification\")\n",
    "\n",
    "songs_fit <- workflow() %>%\n",
    "             add_recipe(songs_recipe) %>%\n",
    "             add_model(knn_spec_2) %>%\n",
    "            fit(data = tracks_test)\n"
   ]
  },
  {
   "cell_type": "markdown",
   "metadata": {},
   "source": [
    "# Results\n",
    "\n",
    " \n",
    "Below are our visualizations of our analysis. The first is a plot of our confusion matrix distributions as a bar graph. The second is a graph summarizing our data analysis findings\n"
   ]
  },
  {
   "cell_type": "code",
   "execution_count": null,
   "metadata": {},
   "outputs": [],
   "source": [
    "# predict the model accuracy\n",
    "songs_predictions <- predict(songs_fit, tracks_test) %>%\n",
    "                        bind_cols(tracks_test)\n",
    "\n",
    "accuracy_on_test <- songs_predictions %>% \n",
    "                        metrics(truth = explicit, estimate = .pred_class) %>%\n",
    "                        filter(.metric == \"accuracy\")\n",
    "\n",
    "print('Table 1: Statistics About The Quality of the Model')\n",
    "accuracy_on_test\n"
   ]
  },
  {
   "cell_type": "code",
   "execution_count": null,
   "metadata": {},
   "outputs": [],
   "source": [
    "# confusion matrix \n",
    "songs_conf_mat <- songs_predictions %>%\n",
    "                        conf_mat(truth = explicit, estimate = .pred_class) \n",
    "\n",
    "print('Table2: Confusion Matrix of The Classifier')\n",
    "songs_conf_mat\n"
   ]
  },
  {
   "cell_type": "code",
   "execution_count": null,
   "metadata": {},
   "outputs": [],
   "source": [
    "# visualization of the analysis ----------------------------------------------------------------------------\n",
    "\n",
    "#bar graph of confusion matrix\n",
    "\n",
    "mat_graph <- songs_predictions %>%\n",
    "    group_by(explicit)%>%\n",
    "    ggplot(aes(x = explicit,color = .pred_class))+geom_bar()+labs(x = \"Explicity\", y = 'Number of Songs') +\n",
    "    ggtitle('Figure 6. Bar graph of Confusion Matrix') +\n",
    "    theme(plot.title = element_text(hjust = 0.5))\n",
    "mat_graph\n"
   ]
  },
  {
   "cell_type": "code",
   "execution_count": null,
   "metadata": {},
   "outputs": [],
   "source": [
    "# Table with best K, variables, accuracy\n",
    "summary_of_analysis = matrix(c('Explicit', 'Speechiness, danceability, energy', 'K = 13', '85.05 %'), ncol = 1, byrow = TRUE) \n",
    "\n",
    "rownames(summary_of_analysis) <- c('Response variable', 'Predictors used', 'Optimal K', \"Classifier's estimated accuracy on test data\")\n",
    "colnames(summary_of_analysis) <- c('Findings')\n",
    "\n",
    "analysis <- as.data.frame(summary_of_analysis) \n",
    "analysis"
   ]
  },
  {
   "cell_type": "code",
   "execution_count": null,
   "metadata": {},
   "outputs": [],
   "source": [
    "library(cowplot)\n",
    "\n",
    "correct_plot <- ggplot(songs_predictions, aes(x = energy, y = speechiness, color = explicit)) +\n",
    "                  geom_point() +\n",
    "                  labs(x = 'Energy(standardized)', y = 'Speechiness (standardized)', color = 'Explicit label') +\n",
    "                  theme(text = element_text(size = 10)) \n",
    "\n",
    "predict_plot <- ggplot(songs_predictions, aes(x = energy, y = speechiness, color = .pred_class)) +\n",
    "                  geom_point() +\n",
    "                  labs(x = 'Energy(standardized)', y = 'Speechiness (standardized)', color = 'Explicit label') +\n",
    "                  theme(text = element_text(size = 10)) \n",
    "\n",
    "plot_grid(correct_plot,predict_plot, ncol = 2, NULL)\n",
    "\n"
   ]
  },
  {
   "cell_type": "code",
   "execution_count": null,
   "metadata": {},
   "outputs": [],
   "source": []
  },
  {
   "cell_type": "markdown",
   "metadata": {},
   "source": [
    "## *Work Cited*"
   ]
  },
  {
   "cell_type": "markdown",
   "metadata": {},
   "source": [
    "(1) https://www.kaggle.com/datasets/paradisejoy/top-hits-spotify-from-20002019\n",
    "\n",
    "(2) https://community.spotify.com/t5/Content-Questions/Explicit-content/td-p/4625150\n",
    "\n",
    "(3) https://datasciencebook.ca/\n"
   ]
  }
 ],
 "metadata": {
  "kernelspec": {
   "display_name": "R",
   "language": "R",
   "name": "ir"
  },
  "language_info": {
   "codemirror_mode": "r",
   "file_extension": ".r",
   "mimetype": "text/x-r-source",
   "name": "R",
   "pygments_lexer": "r",
   "version": "4.0.0"
  }
 },
 "nbformat": 4,
 "nbformat_minor": 4
}
